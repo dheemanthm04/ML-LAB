{
  "nbformat": 4,
  "nbformat_minor": 0,
  "metadata": {
    "colab": {
      "provenance": []
    },
    "kernelspec": {
      "name": "python3",
      "display_name": "Python 3"
    },
    "language_info": {
      "name": "python"
    }
  },
  "cells": [
    {
      "cell_type": "code",
      "source": [
        "import pandas as pd\n",
        "from sklearn.model_selection import train_test_split\n",
        "from sklearn.preprocessing import StandardScaler\n",
        "from sklearn.neighbors import KNeighborsClassifier\n",
        "from sklearn.metrics import accuracy_score, confusion_matrix, classification_report\n",
        "import seaborn as sns\n",
        "import matplotlib.pyplot as plt\n",
        "\n",
        "# Load iris dataset\n",
        "iris_df = pd.read_csv(\"/content/iris (1).csv\")\n",
        "\n",
        "# Features and target\n",
        "X_iris = iris_df.iloc[:, :-1]\n",
        "y_iris = iris_df.iloc[:, -1]\n",
        "\n",
        "# Split data\n",
        "X_train, X_test, y_train, y_test = train_test_split(X_iris, y_iris, test_size=0.2, random_state=42)\n",
        "\n",
        "# Train KNN\n",
        "knn_iris = KNeighborsClassifier(n_neighbors=3)\n",
        "knn_iris.fit(X_train, y_train)\n",
        "\n",
        "# Predict\n",
        "y_pred = knn_iris.predict(X_test)\n",
        "\n",
        "# Evaluate\n",
        "print(\"Iris Dataset - Accuracy:\", accuracy_score(y_test, y_pred))\n",
        "print(\"Confusion Matrix:\\n\", confusion_matrix(y_test, y_pred))\n",
        "print(\"Classification Report:\\n\", classification_report(y_test, y_pred))\n"
      ],
      "metadata": {
        "colab": {
          "base_uri": "https://localhost:8080/"
        },
        "id": "8N-7vwwNU5w9",
        "outputId": "c98769e6-3267-4ccc-91b3-c7fc7b38929d"
      },
      "execution_count": 2,
      "outputs": [
        {
          "output_type": "stream",
          "name": "stdout",
          "text": [
            "Iris Dataset - Accuracy: 1.0\n",
            "Confusion Matrix:\n",
            " [[10  0  0]\n",
            " [ 0  9  0]\n",
            " [ 0  0 11]]\n",
            "Classification Report:\n",
            "               precision    recall  f1-score   support\n",
            "\n",
            "      setosa       1.00      1.00      1.00        10\n",
            "  versicolor       1.00      1.00      1.00         9\n",
            "   virginica       1.00      1.00      1.00        11\n",
            "\n",
            "    accuracy                           1.00        30\n",
            "   macro avg       1.00      1.00      1.00        30\n",
            "weighted avg       1.00      1.00      1.00        30\n",
            "\n"
          ]
        }
      ]
    },
    {
      "cell_type": "code",
      "source": [
        "# Load diabetes dataset\n",
        "diabetes_df = pd.read_csv(\"/content/diabetes.csv\")\n",
        "\n",
        "# Features and target\n",
        "X_diabetes = diabetes_df.iloc[:, :-1]\n",
        "y_diabetes = diabetes_df.iloc[:, -1]\n",
        "\n",
        "# Feature scaling\n",
        "scaler = StandardScaler()\n",
        "X_scaled = scaler.fit_transform(X_diabetes)\n",
        "\n",
        "# Split data\n",
        "X_train, X_test, y_train, y_test = train_test_split(X_scaled, y_diabetes, test_size=0.2, random_state=42)\n",
        "\n",
        "# Train KNN\n",
        "knn_diabetes = KNeighborsClassifier(n_neighbors=5)\n",
        "knn_diabetes.fit(X_train, y_train)\n",
        "\n",
        "# Predict\n",
        "y_pred = knn_diabetes.predict(X_test)\n",
        "\n",
        "# Evaluate\n",
        "print(\"Diabetes Dataset - Accuracy:\", accuracy_score(y_test, y_pred))\n",
        "print(\"Confusion Matrix:\\n\", confusion_matrix(y_test, y_pred))\n",
        "print(\"Classification Report:\\n\", classification_report(y_test, y_pred))\n"
      ],
      "metadata": {
        "colab": {
          "base_uri": "https://localhost:8080/"
        },
        "id": "xFpBiX9nb1c1",
        "outputId": "93260058-0a81-4ae7-b355-85ebf29983db"
      },
      "execution_count": 3,
      "outputs": [
        {
          "output_type": "stream",
          "name": "stdout",
          "text": [
            "Diabetes Dataset - Accuracy: 0.6883116883116883\n",
            "Confusion Matrix:\n",
            " [[79 20]\n",
            " [28 27]]\n",
            "Classification Report:\n",
            "               precision    recall  f1-score   support\n",
            "\n",
            "           0       0.74      0.80      0.77        99\n",
            "           1       0.57      0.49      0.53        55\n",
            "\n",
            "    accuracy                           0.69       154\n",
            "   macro avg       0.66      0.64      0.65       154\n",
            "weighted avg       0.68      0.69      0.68       154\n",
            "\n"
          ]
        }
      ]
    },
    {
      "cell_type": "code",
      "source": [
        "# Load heart dataset\n",
        "heart_df = pd.read_csv(\"heart.csv\")\n",
        "\n",
        "# Features and target\n",
        "X_heart = heart_df.iloc[:, :-1]\n",
        "y_heart = heart_df.iloc[:, -1]\n",
        "\n",
        "# Feature scaling\n",
        "scaler = StandardScaler()\n",
        "X_scaled = scaler.fit_transform(X_heart)\n",
        "\n",
        "# Split data\n",
        "X_train, X_test, y_train, y_test = train_test_split(X_scaled, y_heart, test_size=0.2, random_state=42)\n",
        "\n",
        "# Try different k values\n",
        "best_score = 0\n",
        "best_k = 1\n",
        "for k in range(1, 21):\n",
        "    knn = KNeighborsClassifier(n_neighbors=k)\n",
        "    knn.fit(X_train, y_train)\n",
        "    score = knn.score(X_test, y_test)\n",
        "    if score > best_score:\n",
        "        best_score = score\n",
        "        best_k = k\n",
        "\n",
        "print(f\"Best K value: {best_k} with accuracy: {best_score:.4f}\")\n",
        "\n",
        "# Train best K model\n",
        "knn_heart = KNeighborsClassifier(n_neighbors=best_k)\n",
        "knn_heart.fit(X_train, y_train)\n",
        "y_pred = knn_heart.predict(X_test)\n",
        "\n",
        "# Plot confusion matrix\n",
        "cm = confusion_matrix(y_test, y_pred)\n",
        "sns.heatmap(cm, annot=True, cmap=\"Blues\", fmt='g')\n",
        "plt.title('Heart Dataset - Confusion Matrix')\n",
        "plt.xlabel('Predicted')\n",
        "plt.ylabel('Actual')\n",
        "plt.show()\n",
        "\n",
        "# Print classification report\n",
        "print(\"Classification Report:\\n\", classification_report(y_test, y_pred))\n"
      ],
      "metadata": {
        "colab": {
          "base_uri": "https://localhost:8080/",
          "height": 663
        },
        "id": "7nYK_zxQcBKU",
        "outputId": "a5af10fe-3534-4b34-b0ff-49293e3068e2"
      },
      "execution_count": 4,
      "outputs": [
        {
          "output_type": "stream",
          "name": "stdout",
          "text": [
            "Best K value: 6 with accuracy: 0.9344\n"
          ]
        },
        {
          "output_type": "display_data",
          "data": {
            "text/plain": [
              "<Figure size 640x480 with 2 Axes>"
            ],
            "image/png": "[encoded data removed]"
          },
          "metadata": {}
        },
        {
          "output_type": "stream",
          "name": "stdout",
          "text": [
            "Classification Report:\n",
            "               precision    recall  f1-score   support\n",
            "\n",
            "           0       0.90      0.97      0.93        29\n",
            "           1       0.97      0.91      0.94        32\n",
            "\n",
            "    accuracy                           0.93        61\n",
            "   macro avg       0.93      0.94      0.93        61\n",
            "weighted avg       0.94      0.93      0.93        61\n",
            "\n"
          ]
        }
      ]
    }
  ]
}